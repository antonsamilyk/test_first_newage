{
 "cells": [
  {
   "cell_type": "code",
   "execution_count": 40,
   "metadata": {},
   "outputs": [],
   "source": [
    "import pandas as pd\n",
    "import numpy as np\n",
    "from PIL import Image\n",
    "from io import BytesIO\n",
    "import asyncio\n",
    "import aiohttp\n",
    "import gspread\n",
    "from df2gspread import df2gspread as d2g\n",
    "from oauth2client.service_account import ServiceAccountCredentials"
   ]
  },
  {
   "cell_type": "markdown",
   "metadata": {},
   "source": [
    "#### Read data into DataFrame"
   ]
  },
  {
   "cell_type": "code",
   "execution_count": 2,
   "metadata": {},
   "outputs": [],
   "source": [
    "url = \"https://docs.google.com/spreadsheets/d/1PkqfLtDlHR9URTgr26fy53pCKFJxXl3dya3hiyirPPU/gviz/tq?tqx=out:csv\"\n",
    "url_img = pd.read_csv(url, header = 0)\n"
   ]
  },
  {
   "cell_type": "code",
   "execution_count": 3,
   "metadata": {},
   "outputs": [
    {
     "name": "stdout",
     "output_type": "stream",
     "text": [
      "<class 'pandas.core.frame.DataFrame'>\n",
      "RangeIndex: 46888 entries, 0 to 46887\n",
      "Data columns (total 2 columns):\n",
      " #   Column     Non-Null Count  Dtype  \n",
      "---  ------     --------------  -----  \n",
      " 0   image_url  46868 non-null  object \n",
      " 1   SIZE       0 non-null      float64\n",
      "dtypes: float64(1), object(1)\n",
      "memory usage: 732.8+ KB\n"
     ]
    }
   ],
   "source": [
    "url_img.info()"
   ]
  },
  {
   "cell_type": "markdown",
   "metadata": {},
   "source": [
    "#### Some preparations"
   ]
  },
  {
   "cell_type": "code",
   "execution_count": 4,
   "metadata": {},
   "outputs": [],
   "source": [
    "PRE_URL = \"https://data.sanitino.eu/\"\n",
    "adress_list = [str(url).split('/', 3)[-1] for url in url_img['image_url']]"
   ]
  },
  {
   "cell_type": "markdown",
   "metadata": {},
   "source": [
    "#### Function just for testing connection"
   ]
  },
  {
   "cell_type": "code",
   "execution_count": 5,
   "metadata": {},
   "outputs": [],
   "source": [
    "def get_size_test(url):    \n",
    "    headers = {\n",
    "        \"accept-encoding\": \"gzip, deflate, br\",\n",
    "        \"accept\": \"text/html,application/xhtml+xml,application/xml;q=0.9,image/avif,image/webp,image/apng,*/*;q=0.8,application/signed-exchange;v=b3;q=0.9\",\n",
    "        \"user-agent\" : \"Mozilla/5.0 (Windows NT 10.0; Win64; x64) AppleWebKit/537.36 (KHTML, like Gecko) Chrome/109.0.0.0 Safari/537.36\"\n",
    "    }\n",
    "    response = requests.get(url = url)\n",
    "    try:\n",
    "        img = Image.open(BytesIO(response.content))\n",
    "        res = str(img.size[0]) + 'x' + str(img.size[1])\n",
    "    except:\n",
    "        res = np.nan\n",
    "    return res"
   ]
  },
  {
   "cell_type": "markdown",
   "metadata": {},
   "source": [
    "#### Main function and list 'size_arr' like an res array"
   ]
  },
  {
   "cell_type": "code",
   "execution_count": 25,
   "metadata": {},
   "outputs": [],
   "source": [
    "size_arr = list()\n",
    "\n",
    "async def get_size(cont):\n",
    "    try:\n",
    "        sizes = Image.open(BytesIO(cont)).size\n",
    "        res = str(sizes[0]) + 'x' + str(sizes[1]) \n",
    "    except:\n",
    "        return np.nan\n",
    "    return res\n",
    "    \n",
    "    \n",
    "    \n",
    "async def get_req(url, session, semaphore):\n",
    "    await semaphore.acquire()\n",
    "    try:\n",
    "        resp = await session.request(method=\"GET\", url=url, allow_redirects=True)\n",
    "        cont = await resp.read()\n",
    "        res = await get_size(cont)\n",
    "    except aiohttp.ClientConnectorError:\n",
    "        res = 404\n",
    "    semaphore.release()\n",
    "    return res\n",
    "\n",
    "async def gather_req(urls):\n",
    "    headers = {\n",
    "        \"accept-encoding\": \"gzip, deflate, br\",\n",
    "        \"accept\": \"text/html,application/xhtml+xml,application/xml;q=0.9,image/avif,image/webp,image/apng,*/*;q=0.8,application/signed-exchange;v=b3;q=0.9\",\n",
    "        \"user-agent\" : \"Mozilla/5.0 (Windows NT 10.0; Win64; x64) AppleWebKit/537.36 (KHTML, like Gecko) Chrome/109.0.0.0 Safari/537.36\"\n",
    "    }\n",
    "    semaphore = asyncio.Semaphore(value = 100)\n",
    "    async with aiohttp.ClientSession(headers = headers, connector=aiohttp.TCPConnector(ssl=False)) as session:\n",
    "        tasks = []\n",
    "        for url in urls:\n",
    "            tasks.append(\n",
    "                get_req(url=PRE_URL + url, session=session, semaphore = semaphore)\n",
    "            )\n",
    "        results = await asyncio.gather(*tasks)\n",
    "\n",
    "    for result in results:\n",
    "        size_arr.append(result)"
   ]
  },
  {
   "cell_type": "code",
   "execution_count": 26,
   "metadata": {},
   "outputs": [],
   "source": [
    "await gather_req(adress_list)"
   ]
  },
  {
   "cell_type": "code",
   "execution_count": 27,
   "metadata": {},
   "outputs": [],
   "source": [
    "np.save('size_data.npy', size_arr)"
   ]
  },
  {
   "cell_type": "code",
   "execution_count": 28,
   "metadata": {},
   "outputs": [],
   "source": [
    "url_img['SIZE'] = size_arr"
   ]
  },
  {
   "cell_type": "code",
   "execution_count": 29,
   "metadata": {},
   "outputs": [
    {
     "data": {
      "text/html": [
       "<div>\n",
       "<style scoped>\n",
       "    .dataframe tbody tr th:only-of-type {\n",
       "        vertical-align: middle;\n",
       "    }\n",
       "\n",
       "    .dataframe tbody tr th {\n",
       "        vertical-align: top;\n",
       "    }\n",
       "\n",
       "    .dataframe thead th {\n",
       "        text-align: right;\n",
       "    }\n",
       "</style>\n",
       "<table border=\"1\" class=\"dataframe\">\n",
       "  <thead>\n",
       "    <tr style=\"text-align: right;\">\n",
       "      <th></th>\n",
       "      <th>image_url</th>\n",
       "      <th>SIZE</th>\n",
       "    </tr>\n",
       "  </thead>\n",
       "  <tbody>\n",
       "    <tr>\n",
       "      <th>0</th>\n",
       "      <td>https://data.sanitino.eu/PRODUCT-33916/8607663...</td>\n",
       "      <td>1080x1614</td>\n",
       "    </tr>\n",
       "    <tr>\n",
       "      <th>1</th>\n",
       "      <td>https://data.sanitino.eu/PRODUCT-62434/f7aa3c2...</td>\n",
       "      <td>1080x1080</td>\n",
       "    </tr>\n",
       "    <tr>\n",
       "      <th>2</th>\n",
       "      <td>https://data.sanitino.eu/PRODUCT-33915/8607663...</td>\n",
       "      <td>1080x1614</td>\n",
       "    </tr>\n",
       "    <tr>\n",
       "      <th>3</th>\n",
       "      <td>https://data.sanitino.eu/PRODUCT-62426/506d67b...</td>\n",
       "      <td>1080x1080</td>\n",
       "    </tr>\n",
       "    <tr>\n",
       "      <th>4</th>\n",
       "      <td>https://data.sanitino.eu/PRODUCT-33893/ccd99b4...</td>\n",
       "      <td>1080x1614</td>\n",
       "    </tr>\n",
       "    <tr>\n",
       "      <th>...</th>\n",
       "      <td>...</td>\n",
       "      <td>...</td>\n",
       "    </tr>\n",
       "    <tr>\n",
       "      <th>46883</th>\n",
       "      <td>https://data.sanitino.eu/PRODUCT-113844/9786df...</td>\n",
       "      <td>2301x1080</td>\n",
       "    </tr>\n",
       "    <tr>\n",
       "      <th>46884</th>\n",
       "      <td>https://data.sanitino.eu/PRODUCT-20240/4a457da...</td>\n",
       "      <td>1621x1080</td>\n",
       "    </tr>\n",
       "    <tr>\n",
       "      <th>46885</th>\n",
       "      <td>https://data.sanitino.eu/PRODUCT-47765/58a1a3d...</td>\n",
       "      <td>1080x1218</td>\n",
       "    </tr>\n",
       "    <tr>\n",
       "      <th>46886</th>\n",
       "      <td>https://data.sanitino.eu/PRODUCT-56372/764c369...</td>\n",
       "      <td>1080x1080</td>\n",
       "    </tr>\n",
       "    <tr>\n",
       "      <th>46887</th>\n",
       "      <td>https://data.sanitino.eu/PRODUCT-90692/5a30dff...</td>\n",
       "      <td>1757x1080</td>\n",
       "    </tr>\n",
       "  </tbody>\n",
       "</table>\n",
       "<p>46888 rows × 2 columns</p>\n",
       "</div>"
      ],
      "text/plain": [
       "                                               image_url       SIZE\n",
       "0      https://data.sanitino.eu/PRODUCT-33916/8607663...  1080x1614\n",
       "1      https://data.sanitino.eu/PRODUCT-62434/f7aa3c2...  1080x1080\n",
       "2      https://data.sanitino.eu/PRODUCT-33915/8607663...  1080x1614\n",
       "3      https://data.sanitino.eu/PRODUCT-62426/506d67b...  1080x1080\n",
       "4      https://data.sanitino.eu/PRODUCT-33893/ccd99b4...  1080x1614\n",
       "...                                                  ...        ...\n",
       "46883  https://data.sanitino.eu/PRODUCT-113844/9786df...  2301x1080\n",
       "46884  https://data.sanitino.eu/PRODUCT-20240/4a457da...  1621x1080\n",
       "46885  https://data.sanitino.eu/PRODUCT-47765/58a1a3d...  1080x1218\n",
       "46886  https://data.sanitino.eu/PRODUCT-56372/764c369...  1080x1080\n",
       "46887  https://data.sanitino.eu/PRODUCT-90692/5a30dff...  1757x1080\n",
       "\n",
       "[46888 rows x 2 columns]"
      ]
     },
     "execution_count": 29,
     "metadata": {},
     "output_type": "execute_result"
    }
   ],
   "source": [
    "url_img"
   ]
  },
  {
   "cell_type": "markdown",
   "metadata": {},
   "source": [
    "#### Write DataFrame with result to spreadsheet - 'result_script'"
   ]
  },
  {
   "cell_type": "code",
   "execution_count": 44,
   "metadata": {},
   "outputs": [],
   "source": [
    "scope = ['https://spreadsheets.google.com/feeds',\n",
    "         'https://www.googleapis.com/auth/drive']\n",
    "credentials = ServiceAccountCredentials.from_json_keyfile_name(\n",
    "    'project-test-newage-375007fc5920.json', scope)\n",
    "gc = gspread.authorize(credentials)"
   ]
  },
  {
   "cell_type": "code",
   "execution_count": 45,
   "metadata": {},
   "outputs": [
    {
     "data": {
      "text/plain": [
       "<Worksheet 'result_script' id:1724244167>"
      ]
     },
     "execution_count": 45,
     "metadata": {},
     "output_type": "execute_result"
    }
   ],
   "source": [
    "spreadsheet_key = '1PkqfLtDlHR9URTgr26fy53pCKFJxXl3dya3hiyirPPU'\n",
    "wks_name = 'result_script'\n",
    "d2g.upload(url_img, spreadsheet_key, wks_name, credentials=credentials, row_names=False)"
   ]
  },
  {
   "cell_type": "code",
   "execution_count": null,
   "metadata": {},
   "outputs": [],
   "source": []
  }
 ],
 "metadata": {
  "kernelspec": {
   "display_name": "Python 3",
   "language": "python",
   "name": "python3"
  },
  "language_info": {
   "codemirror_mode": {
    "name": "ipython",
    "version": 3
   },
   "file_extension": ".py",
   "mimetype": "text/x-python",
   "name": "python",
   "nbconvert_exporter": "python",
   "pygments_lexer": "ipython3",
   "version": "3.8.3"
  }
 },
 "nbformat": 4,
 "nbformat_minor": 4
}
